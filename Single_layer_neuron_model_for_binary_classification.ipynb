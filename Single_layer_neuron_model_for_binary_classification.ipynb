{
  "nbformat": 4,
  "nbformat_minor": 0,
  "metadata": {
    "colab": {
      "provenance": []
    },
    "kernelspec": {
      "name": "python3",
      "display_name": "Python 3"
    },
    "language_info": {
      "name": "python"
    }
  },
  "cells": [
    {
      "cell_type": "markdown",
      "source": [
        "single hidden layer neural network for binary classification.in hidden layer activation function used is ReLU.at output layer sigmoid activation function is used.loss function used is categorical cross entropy."
      ],
      "metadata": {
        "id": "novaK-VP7ay8"
      }
    },
    {
      "cell_type": "code",
      "execution_count": 1,
      "metadata": {
        "id": "la2cZmIU7X4q"
      },
      "outputs": [],
      "source": [
        "import numpy as np\n",
        "from sklearn import datasets\n",
        "from sklearn.model_selection import train_test_split\n",
        "np.random.seed(0)\n",
        "from sklearn.metrics import accuracy_score"
      ]
    },
    {
      "cell_type": "markdown",
      "source": [
        "np.random.seed(0) makes the random numbers predictable\n",
        "If the random seed is not reset, different numbers appear with every invocation"
      ],
      "metadata": {
        "id": "5HltI-8P77wm"
      }
    },
    {
      "cell_type": "code",
      "source": [
        "features_set_x,labels_y=datasets.make_moons(2000,noise=0.1)\n",
        "X_train,X_test,Y_train,Y_test=train_test_split(features_set_x,labels_y,random_state=42)\n",
        "m_test=X_test.shape[0]\n",
        "m_train=X_train.shape[0]\n",
        "X=X_train.T\n",
        "Y=Y_train.reshape(1,m_train)\n",
        "Ytest=Y_test.reshape(1,m_test)\n",
        "Xtest=X_test.T\n",
        "print(Y.shape)"
      ],
      "metadata": {
        "id": "Yl78PqAV7_WP",
        "colab": {
          "base_uri": "https://localhost:8080/"
        },
        "outputId": "3ab969c2-0115-446c-b219-31994c615b98"
      },
      "execution_count": 2,
      "outputs": [
        {
          "output_type": "stream",
          "name": "stdout",
          "text": [
            "(1, 1500)\n"
          ]
        }
      ]
    },
    {
      "cell_type": "code",
      "source": [
        "def ReLU(z):\n",
        "  return np.maximum(0,z)\n",
        "def ReLUD(z):\n",
        "  return np.heaviside(z,1)\n",
        "def Sigmoid(z):\n",
        "  return 1/(1+np.exp(-z))\n"
      ],
      "metadata": {
        "id": "EKfseLhA9HBD"
      },
      "execution_count": 3,
      "outputs": []
    },
    {
      "cell_type": "code",
      "source": [
        "n1,n2,n3=2,8,1"
      ],
      "metadata": {
        "id": "mkvyuAvH9pfm"
      },
      "execution_count": 4,
      "outputs": []
    },
    {
      "cell_type": "code",
      "source": [
        "def forward_prop(W1,W2,X,b1,b2):\n",
        "  Z1=np.matmul(W1,X)+b1\n",
        "  A1=ReLU(Z1)\n",
        "  Z2=np.matmul(W2,A1)+b2\n",
        "  A2=Sigmoid(Z2)\n",
        "  return Z1,A1,Z2,A2"
      ],
      "metadata": {
        "id": "xmqxT7mT9hPN"
      },
      "execution_count": 5,
      "outputs": []
    },
    {
      "cell_type": "code",
      "source": [
        "def backward_prop(Y,A2,A1,W2,X):\n",
        "  m=X.shape[1]\n",
        "  DZ2=A2-Y\n",
        "  DW2=DZ2@A1.T/m\n",
        "  DZ1=W2.T@DZ2*ReLUD(Z1)\n",
        "  DW1=DZ1@X.T/m\n",
        "  Db2=np.sum(DZ2,axis=1,keepdims=True)/m\n",
        "  Db1=np.sum(DZ1,axis=1,keepdims=True)/m\n",
        "  return DW2,DW1,Db2,Db1"
      ],
      "metadata": {
        "id": "S6PjgR-h-ft8"
      },
      "execution_count": 6,
      "outputs": []
    },
    {
      "cell_type": "code",
      "source": [
        "def cost_func(Yhat,Y):\n",
        "  m=Yhat.shape[1]\n",
        "  ep=1e-14\n",
        "  loss=-Y*np.log(np.maximum(Yhat,ep))-(1-Y)*np.log(np.maximum((1-Yhat),ep))\n",
        "  return np.sum(loss,axis=1)/m"
      ],
      "metadata": {
        "id": "s08Kj8OvLUld"
      },
      "execution_count": 7,
      "outputs": []
    },
    {
      "cell_type": "code",
      "source": [
        "W1=np.random.randn(n2,n1)*np.sqrt(1/(n2+n1))\n",
        "W2=np.random.randn(n3,n2)*np.sqrt(1/(n2+n3))\n",
        "b1=np.random.randn(n2,1)\n",
        "b2=np.random.randn(n3,1)"
      ],
      "metadata": {
        "id": "a9xMo6otMbd-"
      },
      "execution_count": 8,
      "outputs": []
    },
    {
      "cell_type": "code",
      "source": [
        "itrations=10000\n",
        "alpha=0.01\n",
        "for i in range(itrations):\n",
        "  Z1,A1,Z2,Yhat=forward_prop(W1,W2,X,b1,b2)\n",
        "  DW2,DW1,Db2,Db1=backward_prop(Y,Yhat,A1,W2,X)\n",
        "  W1=W1-alpha*DW1\n",
        "  W2=W2-alpha*DW2\n",
        "  b1=b1-alpha*Db1\n",
        "  b2=b2-alpha*Db2\n",
        "  cost=cost_func(Yhat,Y)\n",
        "  if i%500==0:\n",
        "    print(cost)"
      ],
      "metadata": {
        "colab": {
          "base_uri": "https://localhost:8080/"
        },
        "id": "69R1-BybNdUw",
        "outputId": "38d9b53d-696d-41e5-fb3f-bae3ce0ed121"
      },
      "execution_count": 9,
      "outputs": [
        {
          "output_type": "stream",
          "name": "stdout",
          "text": [
            "[0.59237672]\n",
            "[0.34424784]\n",
            "[0.29034279]\n",
            "[0.27266196]\n",
            "[0.2643274]\n",
            "[0.25950905]\n",
            "[0.25623765]\n",
            "[0.25366179]\n",
            "[0.2514432]\n",
            "[0.24939414]\n",
            "[0.24742938]\n",
            "[0.24559392]\n",
            "[0.24385569]\n",
            "[0.2422209]\n",
            "[0.2406894]\n",
            "[0.23924438]\n",
            "[0.23788447]\n",
            "[0.23660982]\n",
            "[0.23541522]\n",
            "[0.23429097]\n"
          ]
        }
      ]
    },
    {
      "cell_type": "code",
      "source": [
        "Z1,A1,Z2,Yhat=forward_prop(W1,W2,Xtest,b1,b2)\n",
        "Ypred=np.round(Yhat)\n",
        "acc = 0\n",
        "for i in range(m_test):\n",
        "  if abs(Ypred[0,i]-Ytest[0,i])<1e-6:\n",
        "    acc += 1\n",
        "print(\"Prediction accuracy percentage on the test set:\",acc*100/m_test)"
      ],
      "metadata": {
        "colab": {
          "base_uri": "https://localhost:8080/"
        },
        "id": "QxXSHXbwQsrp",
        "outputId": "00a2acd7-c0f1-4742-f737-0bd168dd9347"
      },
      "execution_count": 10,
      "outputs": [
        {
          "output_type": "stream",
          "name": "stdout",
          "text": [
            "Prediction accuracy percentage on the test set: 90.2\n"
          ]
        }
      ]
    }
  ]
}